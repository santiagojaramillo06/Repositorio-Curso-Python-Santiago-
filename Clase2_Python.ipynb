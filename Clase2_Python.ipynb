{
 "cells": [
  {
   "cell_type": "code",
   "execution_count": 1,
   "id": "b0c835ee",
   "metadata": {},
   "outputs": [
    {
     "name": "stdout",
     "output_type": "stream",
     "text": [
      "Mi nombre es frailejon\n"
     ]
    }
   ],
   "source": [
    "#Imprime cualquier tipo de objeto como texto o numero\n",
    "print(\"Mi nombre es frailejon\")"
   ]
  },
  {
   "cell_type": "code",
   "execution_count": 2,
   "id": "57ece90f",
   "metadata": {},
   "outputs": [
    {
     "name": "stdout",
     "output_type": "stream",
     "text": [
      "hola, mi nombre es santiago\n"
     ]
    }
   ],
   "source": [
    "#Variables\n",
    "greeting = \"hola, mi nombre es santiago\"\n",
    "print(greeting)"
   ]
  },
  {
   "cell_type": "code",
   "execution_count": 3,
   "id": "be5d62f5",
   "metadata": {},
   "outputs": [
    {
     "name": "stdout",
     "output_type": "stream",
     "text": [
      "7.5\n"
     ]
    }
   ],
   "source": [
    "#Numeros\n",
    "an_int = 3\n",
    "a_float = 4.5\n",
    "print(an_int + a_float)"
   ]
  },
  {
   "cell_type": "code",
   "execution_count": 4,
   "id": "b99ce1c8",
   "metadata": {},
   "outputs": [
    {
     "name": "stdout",
     "output_type": "stream",
     "text": [
      "24569\n",
      "-550\n",
      "0.24\n",
      "15\n"
     ]
    }
   ],
   "source": [
    "#Suma, resta, multiplicacion, division\n",
    "print(12030+12539)\n",
    "print(120-670)\n",
    "print(120/500)\n",
    "print(3*5)"
   ]
  },
  {
   "cell_type": "markdown",
   "id": "1706f422",
   "metadata": {},
   "source": [
    "## Introduccion Python"
   ]
  },
  {
   "cell_type": "code",
   "execution_count": 6,
   "id": "ac2ea270",
   "metadata": {},
   "outputs": [],
   "source": [
    "#Ejercicios conceptos basicos"
   ]
  },
  {
   "cell_type": "code",
   "execution_count": 9,
   "id": "ebee37b7",
   "metadata": {},
   "outputs": [
    {
     "name": "stdout",
     "output_type": "stream",
     "text": [
      "My name is Santiago\n",
      "I am 20 years old.\n"
     ]
    }
   ],
   "source": [
    "name = 'Santiago'\n",
    "print(\"My name is \" + name)\n",
    "age = 20\n",
    "print(\"I am \" + str(age) + \" years old.\")"
   ]
  },
  {
   "cell_type": "code",
   "execution_count": 11,
   "id": "7828450d",
   "metadata": {},
   "outputs": [
    {
     "name": "stdout",
     "output_type": "stream",
     "text": [
      "La estatura promedio es 168.33333333333334 cm\n"
     ]
    }
   ],
   "source": [
    "david_height = 170\n",
    "santana_height = 169\n",
    "maylin_height = 166\n",
    "avg_height = (david_height + santana_height + maylin_height)/3\n",
    "print(\"La estatura promedio es \" + str(avg_height) + \" cm\")"
   ]
  },
  {
   "cell_type": "code",
   "execution_count": null,
   "id": "34962541",
   "metadata": {},
   "outputs": [],
   "source": []
  },
  {
   "cell_type": "markdown",
   "id": "cc8368a7",
   "metadata": {},
   "source": [
    "## Flux Control"
   ]
  },
  {
   "cell_type": "code",
   "execution_count": 16,
   "id": "cf707bd8",
   "metadata": {},
   "outputs": [
    {
     "name": "stdout",
     "output_type": "stream",
     "text": [
      "B\n"
     ]
    }
   ],
   "source": [
    "point = 89\n",
    "if point >= 90 and point < 100:\n",
    "    print(\"A\")\n",
    "elif point >=75 and point < 90:\n",
    "    print(\"B\")\n",
    "elif point >= 60 and point < 75:\n",
    "    print(\"C\")\n",
    "elif point >= 0 and point < 60:\n",
    "    print(\"D\")\n",
    "else:\n",
    "    print(\"Nell\")\n"
   ]
  },
  {
   "cell_type": "code",
   "execution_count": 17,
   "id": "ef14d714",
   "metadata": {},
   "outputs": [
    {
     "name": "stdout",
     "output_type": "stream",
     "text": [
      "Cuanto tiempo demoró?: 20\n",
      "Usted recorrió: 1200.0 Km/h\n"
     ]
    }
   ],
   "source": [
    "speed = 60 #Km/h\n",
    "time = input(\"Cuanto tiempo demoró?: \")\n",
    "print(\"Usted recorrió: \" + str(speed*float(time)) + \" Km/h\")"
   ]
  },
  {
   "cell_type": "markdown",
   "id": "e1161785",
   "metadata": {},
   "source": [
    "## Listas"
   ]
  },
  {
   "cell_type": "code",
   "execution_count": 25,
   "id": "880cf74d",
   "metadata": {},
   "outputs": [
    {
     "name": "stdout",
     "output_type": "stream",
     "text": [
      "[170, 163, 178, 165, 166, 160]\n",
      "[160, 166, 165, 178, 163, 170]\n"
     ]
    }
   ],
   "source": [
    "height = []\n",
    "male_heights = [170, 163, 178, 165]\n",
    "female_heights = [166, 160]\n",
    "height = male_heights + female_heights\n",
    "print(height)\n",
    "print(height[::-1])"
   ]
  },
  {
   "cell_type": "code",
   "execution_count": 20,
   "id": "9a8cf869",
   "metadata": {},
   "outputs": [
    {
     "name": "stdout",
     "output_type": "stream",
     "text": [
      "[170, 163, 178, 165, 166, 160, 168, 168]\n"
     ]
    }
   ],
   "source": [
    "height.append(168)\n",
    "print(height)"
   ]
  },
  {
   "cell_type": "code",
   "execution_count": 21,
   "id": "b5c9ea87",
   "metadata": {},
   "outputs": [
    {
     "name": "stdout",
     "output_type": "stream",
     "text": [
      "168\n"
     ]
    }
   ],
   "source": [
    "last_height = height[-1]\n",
    "print(last_height)"
   ]
  },
  {
   "cell_type": "code",
   "execution_count": 22,
   "id": "61e7950c",
   "metadata": {},
   "outputs": [
    {
     "name": "stdout",
     "output_type": "stream",
     "text": [
      "8\n"
     ]
    }
   ],
   "source": [
    "n_heights = len(height)\n",
    "print(n_heights)"
   ]
  },
  {
   "cell_type": "code",
   "execution_count": 23,
   "id": "edd378bb",
   "metadata": {},
   "outputs": [
    {
     "name": "stdout",
     "output_type": "stream",
     "text": [
      "[0, 1, 2, 3, 4, 5, 6, 7]\n"
     ]
    }
   ],
   "source": [
    "range_a = range(n_heights)\n",
    "print(list(range_a))"
   ]
  },
  {
   "cell_type": "code",
   "execution_count": 26,
   "id": "8ebc49d2",
   "metadata": {},
   "outputs": [
    {
     "name": "stdout",
     "output_type": "stream",
     "text": [
      "[2, 3, 4, 5, 6, 7, 8, 9, 10, 11, 12, 13, 14, 15]\n"
     ]
    }
   ],
   "source": [
    "range_b = range(2, 16)\n",
    "print(list(range_b))"
   ]
  },
  {
   "cell_type": "code",
   "execution_count": 27,
   "id": "c910efeb",
   "metadata": {},
   "outputs": [
    {
     "name": "stdout",
     "output_type": "stream",
     "text": [
      "[5, 1, -3, -7]\n"
     ]
    }
   ],
   "source": [
    "range_c = range(5, -10, -4)\n",
    "print(list(range_c))"
   ]
  },
  {
   "cell_type": "code",
   "execution_count": 29,
   "id": "02cc1e9e",
   "metadata": {},
   "outputs": [
    {
     "name": "stdout",
     "output_type": "stream",
     "text": [
      "[('Salchipapa', 20000), ('Pizza', 7000), ('Hamburguesa', 20000), ('Hot Dog', 2500)]\n"
     ]
    }
   ],
   "source": [
    "fast_food = [\"Salchipapa\", \"Pizza\", \"Hamburguesa\", \"Hot Dog\"]\n",
    "princes = [20000, 7000, 20000, 2500]\n",
    "food_prices = list(zip(fast_food, princes))\n",
    "print(list(food_prices))"
   ]
  },
  {
   "cell_type": "code",
   "execution_count": 30,
   "id": "1060fc4f",
   "metadata": {},
   "outputs": [
    {
     "name": "stdout",
     "output_type": "stream",
     "text": [
      "20000\n"
     ]
    }
   ],
   "source": [
    "print(food_prices[0][1])"
   ]
  },
  {
   "cell_type": "markdown",
   "id": "6c4acfe9",
   "metadata": {},
   "source": [
    "## Cliclos"
   ]
  },
  {
   "cell_type": "markdown",
   "id": "f7643b0d",
   "metadata": {},
   "source": [
    "## For"
   ]
  },
  {
   "cell_type": "code",
   "execution_count": 32,
   "id": "bd59ba77",
   "metadata": {},
   "outputs": [
    {
     "name": "stdout",
     "output_type": "stream",
     "text": [
      "Garavito\n",
      "Santana\n",
      "Joshua\n",
      "Zabala\n",
      "Juan Pablo\n"
     ]
    }
   ],
   "source": [
    "names = [\"Garavito\", \"Santana\", \"Joshua\", \"Zabala\", \"Juan Pablo\"]\n",
    "for name in names:\n",
    "    print(name)"
   ]
  },
  {
   "cell_type": "code",
   "execution_count": 33,
   "id": "aa5a2ef7",
   "metadata": {},
   "outputs": [
    {
     "name": "stdout",
     "output_type": "stream",
     "text": [
      "Garavito\n",
      "Santana\n",
      "Joshua\n",
      "Zabala\n",
      "Juan Pablo\n"
     ]
    }
   ],
   "source": [
    "for i in range(len(names)):\n",
    "    print(names[i])"
   ]
  },
  {
   "cell_type": "markdown",
   "id": "8ecb9015",
   "metadata": {},
   "source": [
    "## While"
   ]
  },
  {
   "cell_type": "code",
   "execution_count": 40,
   "id": "591bbb02",
   "metadata": {
    "scrolled": true
   },
   "outputs": [
    {
     "name": "stdout",
     "output_type": "stream",
     "text": [
      "5\n",
      "6\n",
      "7\n",
      "8\n",
      "9\n",
      "10\n",
      "11\n",
      "12\n",
      "13\n",
      "14\n"
     ]
    }
   ],
   "source": [
    "counter = 5\n",
    "while counter < 15:\n",
    "    print(counter)\n",
    "    counter += 1"
   ]
  },
  {
   "cell_type": "markdown",
   "id": "b4e02a50",
   "metadata": {},
   "source": [
    "## List Comprensations"
   ]
  },
  {
   "cell_type": "code",
   "execution_count": 41,
   "id": "9f1aa0bc",
   "metadata": {},
   "outputs": [
    {
     "name": "stdout",
     "output_type": "stream",
     "text": [
      "[-8, 4, 1, -17, 25, 40, -29, -5]\n"
     ]
    }
   ],
   "source": [
    "m = 3\n",
    "b = -5\n",
    "x = [-1, 3, 2, -4, 10, 15, -8, 0]\n",
    "#y = mx + b\n",
    "y = [m*xi + b for xi in x]\n",
    "print(y)"
   ]
  },
  {
   "cell_type": "markdown",
   "id": "b02e9453",
   "metadata": {},
   "source": [
    "## Ejercicios"
   ]
  },
  {
   "cell_type": "markdown",
   "id": "24f3198a",
   "metadata": {},
   "source": [
    "## Ejercicio 1"
   ]
  },
  {
   "cell_type": "code",
   "execution_count": 45,
   "id": "3394f3a3",
   "metadata": {},
   "outputs": [
    {
     "name": "stdout",
     "output_type": "stream",
     "text": [
      "La lista con el numero mayor es la lista B\n"
     ]
    }
   ],
   "source": [
    "A = [1, 3, 5, 10]\n",
    "B = [4, -1, 100]\n",
    "max_A = 0\n",
    "max_B = 0\n",
    "for a in A:\n",
    "    if a > max_A:\n",
    "        max_A = a\n",
    "for b in B:\n",
    "    if b > max_B:\n",
    "        max_B = b\n",
    "if max_A > max_B:\n",
    "    print(\"La lista con el numero mayor es la lista A\")\n",
    "else:\n",
    "    print(\"La lista con el numero mayor es la lista B\")"
   ]
  },
  {
   "cell_type": "code",
   "execution_count": 50,
   "id": "577b1bea",
   "metadata": {},
   "outputs": [
    {
     "name": "stdout",
     "output_type": "stream",
     "text": [
      "¿Cuantos datos hay en la lista A?: \n",
      "2\n",
      "Ingrese el valor 1 de la lista 18\n",
      "Ingrese el valor 2 de la lista 44\n",
      "lista A: [18, 44]\n",
      "¿Cuantos datos hay en la lista B?: \n",
      "2\n",
      "Ingrese el valor 1 de la lista 44\n",
      "Ingrese el valor 2 de la lista 18\n",
      "lista B: [44, 18]\n",
      "La lista con el numero mayor es la lista B\n"
     ]
    }
   ],
   "source": [
    "n_A = int(input(\"¿Cuantos datos hay en la lista A?: \\n\"))\n",
    "A = []\n",
    "for i in range(n_A):\n",
    "    A.append(int(input(\"Ingrese el valor \" + str(i + 1) + \" de la lista \")))\n",
    "print(\"lista A: \" + str(A))\n",
    "\n",
    "n_B = int(input(\"¿Cuantos datos hay en la lista B?: \\n\"))\n",
    "B = []\n",
    "for i in range(n_B):\n",
    "    B.append(int(input(\"Ingrese el valor \" + str(i + 1) + \" de la lista \")))\n",
    "print(\"lista B: \" + str(B))\n",
    "\n",
    "max_A = 0\n",
    "max_B = 0\n",
    "for a in A:\n",
    "    if a > max_A:\n",
    "        max_A = a\n",
    "for b in B:\n",
    "    if b > max_B:\n",
    "        max_B = b\n",
    "if max_A > max_B:\n",
    "    print(\"La lista con el numero mayor es la lista A\")\n",
    "else:\n",
    "    print(\"La lista con el numero mayor es la lista B\")"
   ]
  },
  {
   "cell_type": "markdown",
   "id": "4bfffe37",
   "metadata": {},
   "source": [
    "## Ejercicio 2"
   ]
  },
  {
   "cell_type": "code",
   "execution_count": 69,
   "id": "9cfb42ec",
   "metadata": {},
   "outputs": [
    {
     "name": "stdout",
     "output_type": "stream",
     "text": [
      "¿Cuantos datos hay en la lista A?: \n",
      "2\n",
      "Ingrese el valor 1 de la lista 15\n",
      "Ingrese el valor 2 de la lista 30\n",
      "lista A: [15, 30]\n",
      "¿Cuantos datos hay en la lista B?: \n",
      "3\n",
      "Ingrese el valor 1 de la lista 200\n",
      "Ingrese el valor 2 de la lista 300\n",
      "Ingrese el valor 3 de la lista 500\n",
      "lista B: [200, 300, 500]\n",
      "La suma de la lista A es 45\n",
      "La suma de la lista B es 1000\n",
      "La suma mayor es la lista B \n"
     ]
    }
   ],
   "source": [
    "n_A = int(input(\"¿Cuantos datos hay en la lista A?: \\n\"))\n",
    "A = []\n",
    "for i in range(n_A):\n",
    "    A.append(int(input(\"Ingrese el valor \" + str(i + 1) + \" de la lista \")))\n",
    "print(\"lista A: \" + str(A))\n",
    "\n",
    "n_B = int(input(\"¿Cuantos datos hay en la lista B?: \\n\"))\n",
    "B = []\n",
    "for i in range(n_B):\n",
    "    B.append(int(input(\"Ingrese el valor \" + str(i + 1) + \" de la lista \")))\n",
    "print(\"lista B: \" + str(B))\n",
    "\n",
    "sum_A = 0\n",
    "sum_B = 0\n",
    "\n",
    "for i in A:\n",
    "    sum_A += i\n",
    "print(\"La suma de la lista A es \" + str(sum_A))\n",
    "\n",
    "for i in B:\n",
    "    sum_B += i\n",
    "print(\"La suma de la lista B es \" + str(sum_B))\n",
    "\n",
    "if sum_A < sum_B:\n",
    "    print(\"La suma mayor es la lista B \")\n",
    "else:\n",
    "    print(\"La suma mator es la lista A \")\n"
   ]
  },
  {
   "cell_type": "markdown",
   "id": "4b971325",
   "metadata": {},
   "source": [
    "## Ejercicio 3"
   ]
  },
  {
   "cell_type": "code",
   "execution_count": 85,
   "id": "8c87399a",
   "metadata": {},
   "outputs": [
    {
     "name": "stdout",
     "output_type": "stream",
     "text": [
      "El numero repetido es 3 está en la pisición 0 en la lista J\n",
      "El numero repetido es 3 está en la pisición 2 en la lista S\n",
      "El numero repetido es 4 está en la pisición 2 en la lista J\n",
      "El numero repetido es 4 está en la pisición 3 en la lista S\n"
     ]
    }
   ],
   "source": [
    "J = [3, 5, 4, 9]\n",
    "S = [1, 2, 3, 4]\n",
    "\n",
    "for i in range(len(J)):\n",
    "     for k in range(len(S)):\n",
    "        if J[i] == S[k]:\n",
    "            print(\"El numero repetido es \" + str(J[i])  + \" está en la pisición \" + str(i) + \" en la lista J\")\n",
    "            print(\"El numero repetido es \" + str(S[k])  + \" está en la pisición \" + str(k) + \" en la lista S\")\n",
    "    \n",
    "        "
   ]
  },
  {
   "cell_type": "markdown",
   "id": "aef4361d",
   "metadata": {},
   "source": [
    "## Ejercicio 4"
   ]
  },
  {
   "cell_type": "code",
   "execution_count": 95,
   "id": "d6034c87",
   "metadata": {},
   "outputs": [
    {
     "name": "stdout",
     "output_type": "stream",
     "text": [
      "Ingrese el limite minimo: \n",
      "10\n",
      "Ingrese el limite maximo: \n",
      "300\n",
      "Ingrese el numero: \n",
      "100\n",
      "El numero está dentro del rango\n"
     ]
    }
   ],
   "source": [
    "Lim_min = int(input(\"Ingrese el limite minimo: \\n\"))\n",
    "Lim_max = int(input(\"Ingrese el limite maximo: \\n\"))\n",
    "Num = int(input(\"Ingrese el numero: \\n\"))\n",
    "\n",
    "if Num >= Lim_min and Num <= Lim_max:\n",
    "    print(\"El numero está dentro del rango\")\n",
    "else:\n",
    "    print(\"El numero no está dentro del rango\")"
   ]
  },
  {
   "cell_type": "markdown",
   "id": "ae46ea50",
   "metadata": {},
   "source": [
    "## Ejercicio 5"
   ]
  },
  {
   "cell_type": "code",
   "execution_count": 102,
   "id": "ec2966b3",
   "metadata": {},
   "outputs": [
    {
     "name": "stdout",
     "output_type": "stream",
     "text": [
      "Ingrese el nombre 1: santiago\n",
      "Ingrese el nombre 2: santiago\n",
      "Los nombres son iguales\n"
     ]
    }
   ],
   "source": [
    "Name1 = input(\"Ingrese el nombre 1: \")\n",
    "Name2 = input(\"Ingrese el nombre 2: \")\n",
    "\n",
    "if Name1 == Name2:\n",
    "    print(\"Los nombres son iguales\")\n",
    "else:\n",
    "    print(\"Los nombres son diferentes\")"
   ]
  },
  {
   "cell_type": "markdown",
   "id": "9c746f21",
   "metadata": {},
   "source": [
    "## Ejercicio 6"
   ]
  },
  {
   "cell_type": "code",
   "execution_count": 119,
   "id": "0ad23f72",
   "metadata": {
    "scrolled": true
   },
   "outputs": [
    {
     "name": "stdout",
     "output_type": "stream",
     "text": [
      "Ingrese la calificacion del libro grito de 0 a 10 donde 0 es malo y 10 es bueno: \n",
      "2\n",
      "El libro es muy malo\n"
     ]
    }
   ],
   "source": [
    "Cal_lib = int(input(\"Ingrese la calificacion del libro grito de 0 a 10 donde 0 es malo y 10 es bueno: \\n\"))\n",
    "\n",
    "if Cal_lib >= 8 and Cal_lib <= 10:\n",
    "    print(\"El libro es muy bueno\")\n",
    "elif Cal_lib >= 4 and Cal_lib <= 7:\n",
    "    print(\"El libro es regular\")\n",
    "elif Cal_lib >= 0 and Cal_lib <= 3:\n",
    "    print(\"El libro es muy malo\")\n",
    "else:\n",
    "    print(\"Calificacion invalida\")"
   ]
  },
  {
   "cell_type": "markdown",
   "id": "8743bd3e",
   "metadata": {},
   "source": [
    "## Ejercicio 7"
   ]
  },
  {
   "cell_type": "code",
   "execution_count": 122,
   "id": "37df15a1",
   "metadata": {},
   "outputs": [
    {
     "name": "stdout",
     "output_type": "stream",
     "text": [
      "Ingrese el valor del numero 1: \n",
      "2\n",
      "Ingrese el valor del numero 2: \n",
      "2\n",
      "Ingrese el valor del numero 3: \n",
      "1\n",
      "Los numeros son iguales\n"
     ]
    }
   ],
   "source": [
    "Num1 = int(input(\"Ingrese el valor del numero 1: \\n\"))\n",
    "Num2 = int(input(\"Ingrese el valor del numero 2: \\n\"))\n",
    "Num3 = int(input(\"Ingrese el valor del numero 3: \\n\"))\n",
    "\n",
    "if Num1 > Num2 and Num1 > Num3:\n",
    "    print(\"El numero 1 es el mayor\")\n",
    "elif Num2 > Num1 and Num2 > Num3:\n",
    "    print(\"El numero 2 es el mayor\")\n",
    "elif Num3 > Num2 and Num3 > Num1:\n",
    "    print(\"El numero 1 es el mayor\")\n",
    "else:\n",
    "    print(\"Los numeros son iguales\")\n",
    "    "
   ]
  },
  {
   "cell_type": "markdown",
   "id": "a5e6b61c",
   "metadata": {},
   "source": [
    "## Ejercicio 8"
   ]
  },
  {
   "cell_type": "code",
   "execution_count": 2,
   "id": "35cd6dbd",
   "metadata": {},
   "outputs": [
    {
     "name": "stdout",
     "output_type": "stream",
     "text": [
      "¿Cuantos datos hay en la lista?: \n",
      "3\n",
      "Ingrese el valor 1 de la lista 1\n",
      "Ingrese el valor 2 de la lista 2\n",
      "Ingrese el valor 3 de la lista 3\n",
      "lista: [1, 2, 3]\n"
     ]
    }
   ],
   "source": [
    "n = int(input(\"¿Cuantos datos hay en la lista?: \\n\"))\n",
    "A = []\n",
    "for i in range(n):\n",
    "    A.append(int(input(\"Ingrese el valor \" + str(i + 1) + \" de la lista \")))\n",
    "print(\"lista: \" + str(A))\n",
    "\n",
    "while "
   ]
  },
  {
   "cell_type": "code",
   "execution_count": null,
   "id": "bcbdd196",
   "metadata": {},
   "outputs": [],
   "source": []
  }
 ],
 "metadata": {
  "kernelspec": {
   "display_name": "Python 3 (ipykernel)",
   "language": "python",
   "name": "python3"
  },
  "language_info": {
   "codemirror_mode": {
    "name": "ipython",
    "version": 3
   },
   "file_extension": ".py",
   "mimetype": "text/x-python",
   "name": "python",
   "nbconvert_exporter": "python",
   "pygments_lexer": "ipython3",
   "version": "3.9.7"
  }
 },
 "nbformat": 4,
 "nbformat_minor": 5
}
